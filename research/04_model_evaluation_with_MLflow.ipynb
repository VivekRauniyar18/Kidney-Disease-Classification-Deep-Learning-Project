{
 "cells": [
  {
   "cell_type": "code",
   "execution_count": 30,
   "metadata": {},
   "outputs": [],
   "source": [
    "import os, mlflow\n"
   ]
  },
  {
   "cell_type": "code",
   "execution_count": 31,
   "metadata": {},
   "outputs": [
    {
     "data": {
      "text/plain": [
       "'/Users/vivekrauniyar/Documents/DS Stuffs/Python_DS/Projects/Kidney-Disease-Classification-project'"
      ]
     },
     "execution_count": 31,
     "metadata": {},
     "output_type": "execute_result"
    }
   ],
   "source": [
    "%pwd"
   ]
  },
  {
   "cell_type": "code",
   "execution_count": 17,
   "metadata": {},
   "outputs": [],
   "source": [
    "os.chdir(\"../\")"
   ]
  },
  {
   "cell_type": "code",
   "execution_count": 32,
   "metadata": {},
   "outputs": [
    {
     "data": {
      "text/plain": [
       "'/Users/vivekrauniyar/Documents/DS Stuffs/Python_DS/Projects/Kidney-Disease-Classification-project'"
      ]
     },
     "execution_count": 32,
     "metadata": {},
     "output_type": "execute_result"
    }
   ],
   "source": [
    "%pwd"
   ]
  },
  {
   "cell_type": "code",
   "execution_count": 33,
   "metadata": {},
   "outputs": [],
   "source": [
    "os.environ['MLFLOW_TRACKING_URI']=\"https://dagshub.com/VivekRauniyar18/Kidney-Disease-Classification-Project.mlflow\"\n",
    "os.environ[\"MLFLOW_TRACKING_USERNAME\"]=\"VivekRauniyar18\"\n",
    "os.environ[\"MLFLOW_TRACKING_PASSWORD\"]=\"3e56bc451f33247f3fc88ff9070d4dd17ffde709\""
   ]
  },
  {
   "cell_type": "code",
   "execution_count": null,
   "metadata": {},
   "outputs": [],
   "source": []
  },
  {
   "cell_type": "code",
   "execution_count": 34,
   "metadata": {},
   "outputs": [],
   "source": [
    "import tensorflow as tf"
   ]
  },
  {
   "cell_type": "code",
   "execution_count": 35,
   "metadata": {},
   "outputs": [
    {
     "data": {
      "text/plain": [
       "True"
      ]
     },
     "execution_count": 35,
     "metadata": {},
     "output_type": "execute_result"
    }
   ],
   "source": [
    "from pathlib import Path\n",
    "Path(\"artifacts/training/model.h5\").exists()\n"
   ]
  },
  {
   "cell_type": "code",
   "execution_count": 36,
   "metadata": {},
   "outputs": [],
   "source": [
    "model = tf.keras.models.load_model(\"artifacts/training/model.h5\")\n"
   ]
  },
  {
   "cell_type": "code",
   "execution_count": 37,
   "metadata": {},
   "outputs": [],
   "source": [
    "from dataclasses import dataclass\n",
    "from pathlib import Path\n",
    "\n",
    "@dataclass(frozen=True)\n",
    "class EvaluationConfig:\n",
    "    path_of_model: Path\n",
    "    training_data: Path\n",
    "    all_params: dict\n",
    "    mlflow_uri: str\n",
    "    params_image_size: list\n",
    "    params_batch_size: int\n",
    "    experiment_name: str\n",
    "    run_name: str\n",
    "    mlflow_uri: str\n"
   ]
  },
  {
   "cell_type": "code",
   "execution_count": 38,
   "metadata": {},
   "outputs": [],
   "source": [
    "from cnnClassifier.constants import *\n",
    "from cnnClassifier.utils.common import read_yaml, create_directories, save_json"
   ]
  },
  {
   "cell_type": "code",
   "execution_count": 39,
   "metadata": {},
   "outputs": [],
   "source": [
    "class ConfigurationManager:\n",
    "    def __init__(self, config_filepath=CONFIG_FILE_PATH, params_filepath=PARAMS_FILE_PATH):\n",
    "        self.config = read_yaml(config_filepath)\n",
    "        self.params = read_yaml(params_filepath)\n",
    "        create_directories([self.config.artifacts_root])\n",
    "\n",
    "    def get_evaluation_config(self) -> EvaluationConfig:\n",
    "        eval_config = EvaluationConfig(\n",
    "            path_of_model=Path(self.config.training.trained_model_path),\n",
    "            training_data=Path(self.config.data_ingestion.unzip_dir),\n",
    "            mlflow_uri=self.config.mlflow_uri,\n",
    "            all_params=self.params,\n",
    "            params_image_size=self.params.IMAGE_SIZE,\n",
    "            params_batch_size=self.params.BATCH_SIZE,\n",
    "            experiment_name=\"kidney-disease-experiment\",\n",
    "            run_name=\"run-1\"\n",
    "        )\n",
    "        return eval_config\n"
   ]
  },
  {
   "cell_type": "code",
   "execution_count": 40,
   "metadata": {},
   "outputs": [],
   "source": [
    "\n",
    "import tensorflow as tf\n",
    "from pathlib import Path\n",
    "import mlflow\n",
    "import mlflow.keras\n",
    "from urllib.parse import urlparse\n"
   ]
  },
  {
   "cell_type": "code",
   "execution_count": 41,
   "metadata": {},
   "outputs": [],
   "source": [
    "class Evaluation:\n",
    "    def __init__(self, config: EvaluationConfig):\n",
    "        self.config = config\n",
    "\n",
    "    def _valid_generator(self):\n",
    "        datagenerator_kwargs = dict(\n",
    "            rescale = 1./255,\n",
    "            validation_split = 0.30\n",
    "        )\n",
    "\n",
    "        dataflow_kwargs = dict(\n",
    "            target_size = self.config.params_image_size[:-1],\n",
    "            batch_size = self.config.params_batch_size,\n",
    "            interpolation = \"bilinear\"\n",
    "\n",
    "        )\n",
    "\n",
    "        valid_datagenerator = tf.keras.preprocessing.image.ImageDataGenerator(\n",
    "            **datagenerator_kwargs\n",
    "        )\n",
    "\n",
    "        self.valid_generator = valid_datagenerator.flow_from_directory(\n",
    "            directory = self.config.training_data,\n",
    "            shuffle = False,\n",
    "            subset = \"validation\",\n",
    "            \n",
    "            **dataflow_kwargs\n",
    "        )\n",
    "\n",
    "    @staticmethod\n",
    "    def load_model(path: Path) -> tf.keras.Model:\n",
    "        return tf.keras.models.load_model(path)\n",
    "    \n",
    "\n",
    "    def evaluate(self):\n",
    "        self.model = self.load_model(self.config.path_of_model)\n",
    "        self._valid_generator()\n",
    "        self.score = self.model.evaluate(self.valid_generator)\n",
    "        self.save_score()\n",
    "\n",
    "    def save_score(self):\n",
    "        scores = {\"loss\": self.score[0], \"accuracy\": self.score[1]}\n",
    "        save_json(path = Path(\"scores.json\"), data=scores)\n",
    "\n",
    "    \n",
    "\n",
    "    def log_into_mlflow(self):\n",
    "        import os\n",
    "        import shutil\n",
    "        from pathlib import Path\n",
    "        import mlflow\n",
    "        from mlflow.models import infer_signature\n",
    "\n",
    "        # --- 1) Point MLflow to DagsHub in-code (works even if env vars aren't loaded) ---\n",
    "        DAGSHUB_USER = \"VivekRauniyar18\"\n",
    "        DAGSHUB_REPO = \"Kidney-Disease-Classification-Deep-Learning-Project\"  # <- double-check repo name\n",
    "        MLFLOW_URI = f\"https://dagshub.com/{DAGSHUB_USER}/{DAGSHUB_REPO}.mlflow\"\n",
    "\n",
    "        os.environ[\"MLFLOW_TRACKING_URI\"] = MLFLOW_URI\n",
    "        os.environ.setdefault(\"MLFLOW_TRACKING_USERNAME\", DAGSHUB_USER)\n",
    "        # If you prefer a token:\n",
    "        # os.environ.setdefault(\"MLFLOW_TRACKING_PASSWORD\", \"<your_token_here>\")\n",
    "        # (If you already export these in the shell, this won't overwrite them.)\n",
    "\n",
    "        mlflow.set_tracking_uri(MLFLOW_URI)\n",
    "        mlflow.set_registry_uri(MLFLOW_URI)  # harmless; registry ops will be skipped\n",
    "\n",
    "        # Optional: organize runs\n",
    "        mlflow.set_experiment(getattr(self.config, \"mlflow_experiment_name\", \"kidney-eval\"))\n",
    "\n",
    "        # --- 2) Start run and log params/metrics ---\n",
    "        with mlflow.start_run() as run:\n",
    "            mlflow.log_params(self.config.all_params)\n",
    "            mlflow.log_metrics({\"loss\": float(self.score[0]), \"accuracy\": float(self.score[1])})\n",
    "\n",
    "            # --- 3) Add a signature to silence the warning ---\n",
    "            # grab a small batch from the validation generator\n",
    "            x_batch, _ = next(self.valid_generator)\n",
    "            preds = self.model.predict(x_batch, verbose=0)\n",
    "            signature = infer_signature(x_batch, preds)\n",
    "            input_example = x_batch[:2]  # tiny example\n",
    "\n",
    "            # --- 4) Save as TF SavedModel and log as artifacts (works with Keras 3) ---\n",
    "            export_dir = Path(\"tmp_saved_model\")\n",
    "            if export_dir.exists():\n",
    "                shutil.rmtree(export_dir)\n",
    "            self.model.save(export_dir.as_posix())  # Keras SavedModel\n",
    "\n",
    "            # Log the folder (generic artifacts)\n",
    "            mlflow.log_artifacts(export_dir.as_posix(), artifact_path=\"model\")\n",
    "\n",
    "            # Also log via the TensorFlow flavor WITHOUT registry (handles signature)\n",
    "            try:\n",
    "                import mlflow.tensorflow as mlt\n",
    "                mlt.log_model(\n",
    "                    self.model,\n",
    "                    artifact_path=\"tf_flavor_model\",\n",
    "                    signature=signature,\n",
    "                    input_example=input_example,\n",
    "                    # Do NOT pass registered_model_name on DagsHub (registry not supported)\n",
    "                )\n",
    "            except Exception as e:\n",
    "                print(\"[MLflow] TF flavor log_model skipped:\", e)\n",
    "\n",
    "            print(\"[MLflow] tracking_uri:\", mlflow.get_tracking_uri())\n",
    "            print(\"[MLflow] run_id:\", run.info.run_id)\n"
   ]
  },
  {
   "cell_type": "code",
   "execution_count": 42,
   "metadata": {},
   "outputs": [
    {
     "name": "stdout",
     "output_type": "stream",
     "text": [
      "URI env: https://dagshub.com/VivekRauniyar18/Kidney-Disease-Classification-Project.mlflow\n",
      "URI api: https://dagshub.com/VivekRauniyar18/Kidney-Disease-Classification-Deep-Learning-Project.mlflow\n"
     ]
    }
   ],
   "source": [
    "import os, mlflow\n",
    "print(\"URI env:\", os.environ.get(\"MLFLOW_TRACKING_URI\"))\n",
    "print(\"URI api:\", mlflow.get_tracking_uri())\n"
   ]
  },
  {
   "cell_type": "code",
   "execution_count": 45,
   "metadata": {},
   "outputs": [
    {
     "name": "stdout",
     "output_type": "stream",
     "text": [
      "Bad files: 0\n"
     ]
    }
   ],
   "source": [
    "from pathlib import Path\n",
    "from PIL import Image, UnidentifiedImageError\n",
    "import os\n",
    "\n",
    "root = Path(\"artifacts/data_ingestion\")  # change if needed\n",
    "bad = []\n",
    "for p in root.rglob(\"*\"):\n",
    "    if p.is_file() and p.suffix.lower() in {\".jpg\", \".jpeg\", \".png\", \".bmp\", \".ppm\", \".tif\", \".tiff\"}:\n",
    "        try:\n",
    "            with Image.open(p) as im:\n",
    "                im.verify()  # quick check\n",
    "        except (UnidentifiedImageError, OSError):\n",
    "            bad.append(str(p))\n",
    "\n",
    "print(\"Bad files:\", len(bad))\n",
    "for b in bad[:50]:  # print a sample\n",
    "    print(b)\n",
    "\n",
    "# If you want to delete them:\n",
    "# for b in bad:\n",
    "#     os.remove(b)\n",
    "\n"
   ]
  },
  {
   "cell_type": "code",
   "execution_count": 46,
   "metadata": {},
   "outputs": [
    {
     "name": "stdout",
     "output_type": "stream",
     "text": [
      "Reading YAML from path: config/config.yaml\n",
      "[2025-08-13 10:27:54,229: INFO: common: yaml file: config/config.yaml loaded successfully]\n",
      "Reading YAML from path: params.yaml\n",
      "[2025-08-13 10:27:54,231: INFO: common: yaml file: params.yaml loaded successfully]\n",
      "[2025-08-13 10:27:54,232: INFO: common: created directory at: artifacts]\n",
      "Found 2208 images belonging to 2 classes.\n",
      "138/138 [==============================] - 138s 999ms/step - loss: 0.0000e+00 - accuracy: 1.0000\n",
      "[2025-08-13 10:30:12,574: INFO: common: JSON file saved successfully at: scores.json]\n",
      "INFO:tensorflow:Assets written to: tmp_saved_model/assets\n",
      "[2025-08-13 10:30:14,950: INFO: builder_impl: Assets written to: tmp_saved_model/assets]\n",
      "INFO:tensorflow:Assets written to: /var/folders/qb/y15c8p3j2v5122w7hy2sn6g80000gn/T/tmpds3tm22a/model/data/model/assets\n",
      "[2025-08-13 10:30:29,987: INFO: builder_impl: Assets written to: /var/folders/qb/y15c8p3j2v5122w7hy2sn6g80000gn/T/tmpds3tm22a/model/data/model/assets]\n",
      "[MLflow] TF flavor log_model skipped: module 'tensorflow.keras' has no attribute '__version__'\n",
      "[MLflow] tracking_uri: https://dagshub.com/VivekRauniyar18/Kidney-Disease-Classification-Deep-Learning-Project.mlflow\n",
      "[MLflow] run_id: 05ba9f6e5afc430ea8b75d734d97828c\n"
     ]
    }
   ],
   "source": [
    "try:\n",
    "    config = ConfigurationManager()\n",
    "    eval_config = config.get_evaluation_config()\n",
    "    evaluation = Evaluation(eval_config)\n",
    "    evaluation.evaluate()\n",
    "    evaluation.log_into_mlflow()\n",
    "\n",
    "except Exception as e:\n",
    "    raise e\n"
   ]
  },
  {
   "cell_type": "code",
   "execution_count": null,
   "metadata": {},
   "outputs": [],
   "source": []
  },
  {
   "cell_type": "code",
   "execution_count": null,
   "metadata": {},
   "outputs": [],
   "source": []
  }
 ],
 "metadata": {
  "kernelspec": {
   "display_name": "kidney",
   "language": "python",
   "name": "python3"
  },
  "language_info": {
   "codemirror_mode": {
    "name": "ipython",
    "version": 3
   },
   "file_extension": ".py",
   "mimetype": "text/x-python",
   "name": "python",
   "nbconvert_exporter": "python",
   "pygments_lexer": "ipython3",
   "version": "3.8.20"
  }
 },
 "nbformat": 4,
 "nbformat_minor": 2
}
